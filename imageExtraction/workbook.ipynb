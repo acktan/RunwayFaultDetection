{
 "cells": [
  {
   "cell_type": "code",
   "execution_count": null,
   "id": "51d2fdbf-2a52-4b57-a483-743303534d7d",
   "metadata": {},
   "outputs": [],
   "source": [
    "import urllib.error\n",
    "\n",
    "import re\n",
    "import os\n",
    "import shutil\n",
    "from selenium import webdriver\n",
    "from selenium.webdriver.firefox.service import Service\n",
    "from selenium.webdriver.common.by import By\n",
    "from urllib.request import urlretrieve\n",
    "from pyunpack import Archive\n",
    "from tqdm import tqdm\n",
    "\n",
    "\n",
    "class ScrapeImages:\n",
    "    def __init__(self):\n",
    "        self.driver = webdriver.Firefox(service=Service(executable_path='./geckodriver'))\n",
    "        self.driver.get('https://geoservices.ign.fr/bdortho#telechargement')\n",
    "        self.urls_to_download = None"
   ]
  },
  {
   "cell_type": "code",
   "execution_count": null,
   "id": "afda80e7-f145-4b98-a378-9f9fe6b4518c",
   "metadata": {},
   "outputs": [],
   "source": [
    "ScrapeImages()"
   ]
  },
  {
   "cell_type": "code",
   "execution_count": null,
   "id": "a35a6a62-06f7-4c56-968a-8b84336d70c4",
   "metadata": {},
   "outputs": [],
   "source": []
  }
 ],
 "metadata": {
  "kernelspec": {
   "display_name": "Python 3 (ipykernel)",
   "language": "python",
   "name": "python3"
  },
  "language_info": {
   "codemirror_mode": {
    "name": "ipython",
    "version": 3
   },
   "file_extension": ".py",
   "mimetype": "text/x-python",
   "name": "python",
   "nbconvert_exporter": "python",
   "pygments_lexer": "ipython3",
   "version": "3.8.13"
  }
 },
 "nbformat": 4,
 "nbformat_minor": 5
}
