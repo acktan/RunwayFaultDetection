{
 "cells": [
  {
   "cell_type": "code",
   "execution_count": null,
   "id": "5f1a0fd6-a297-4365-a653-24cb4fe60af1",
   "metadata": {},
   "outputs": [],
   "source": [
    "import pandas as pd\n",
    "import numpy as np\n",
    "import os, sys\n",
    "import tqdm\n",
    "import matplotlib.pyplot as plt\n",
    "\n",
    "trainLabelPath = '../../hfactory_magic_folders/colas_data_challenge/computer_vision_challenge/dataset/labels_train.csv'\n",
    "trainLabels = pd.read_csv(trainLabelPath)"
   ]
  },
  {
   "cell_type": "code",
   "execution_count": null,
   "id": "cd1ba815-cbc5-44d1-aef5-b8769c498753",
   "metadata": {},
   "outputs": [],
   "source": [
    "categories = trainLabels.columns[1:6]\n",
    "y = trainLabels[categories].values.tolist()"
   ]
  },
  {
   "cell_type": "code",
   "execution_count": null,
   "id": "4be1048e-f72b-4981-bd63-6c895cc7bd1a",
   "metadata": {},
   "outputs": [],
   "source": [
    "imageTrainPath = '../../hfactory_magic_folders/colas_data_challenge/computer_vision_challenge/dataset/train/'"
   ]
  },
  {
   "cell_type": "code",
   "execution_count": null,
   "id": "eba22057-5543-4c32-966f-8304b6ae85b0",
   "metadata": {},
   "outputs": [],
   "source": [
    "import torch\n",
    "import numpy as np\n",
    "import cv2\n",
    "import torchvision.transforms as transforms\n",
    "from torch.utils.data import Dataset\n",
    "from keras.preprocessing import image\n",
    "\n",
    "class ImageDataset(Dataset):\n",
    "    def __init__(self, csv, train: bool, test: bool) -> Dataset():\n",
    "        self.csv = csv\n",
    "        self.train = train\n",
    "        self.test = test\n",
    "        self.all_image_names = self.csv[:]['filename']\n",
    "        self.all_labels = np.array(self.csv.drop(['filename'], axis=1))\n",
    "        self.train_ratio = int(0.8 * len(self.csv))\n",
    "        self.valid_ratio = len(self.csv) - self.train_ratio\n",
    "        # set the training data images and labels\n",
    "        if self.train == True:\n",
    "            print(f\"Number of training images: {self.train_ratio}\")\n",
    "            self.image_names = list(self.all_image_names[:self.train_ratio])\n",
    "            self.labels = list(self.all_labels[:self.train_ratio])\n",
    "            # define the training transforms\n",
    "            self.transform = transforms.Compose([\n",
    "                transforms.ToPILImage(),\n",
    "                transforms.Resize((400, 400)),\n",
    "                transforms.RandomHorizontalFlip(p=0.5),\n",
    "                transforms.RandomRotation(degrees=45),\n",
    "                transforms.ToTensor(),\n",
    "            ])\n",
    "        # set the validation data images and labels\n",
    "        elif self.train == False:\n",
    "            print(f\"Number of validation images: {self.valid_ratio}\")\n",
    "            self.image_names = list(self.all_image_names[-self.valid_ratio:-10])\n",
    "            self.labels = list(self.all_labels[-self.valid_ratio:])\n",
    "            # define the validation transforms\n",
    "            self.transform = transforms.Compose([\n",
    "                transforms.ToPILImage(),\n",
    "                transforms.Resize((400, 400)),\n",
    "                transforms.ToTensor(),\n",
    "            ])\n",
    "\n",
    "    def __len__(self):\n",
    "        return len(self.image_names)\n",
    "    \n",
    "    def __getitem__(self, index):\n",
    "        #img = image.load_img(imageTrainPath+self.image_names[index], target_size=(400,400,3))\n",
    "        image = cv2.imread(imageTrainPath+self.image_names[index])\n",
    "        # convert the image from BGR to RGB color format\n",
    "        image = cv2.cvtColor(image, cv2.COLOR_BGR2RGB)\n",
    "        # apply image transforms\n",
    "        image = self.transform(image)\n",
    "        targets = self.labels[index]\n",
    "        \n",
    "        return {\n",
    "            'image': torch.tensor(image, dtype=torch.float32),\n",
    "            'label': torch.tensor(targets, dtype=torch.float32)\n",
    "        }"
   ]
  },
  {
   "cell_type": "code",
   "execution_count": null,
   "id": "45868351-ab5d-44b8-9f5c-838fd90195c2",
   "metadata": {},
   "outputs": [],
   "source": [
    "from torchvision import models as models\n",
    "import torch.nn as nn\n",
    "\n",
    "def model(pretrained, requires_grad):\n",
    "    model = models.resnet50(progress=True, pretrained=pretrained)\n",
    "    # to freeze the hidden layers\n",
    "    if requires_grad == False:\n",
    "        for param in model.parameters():\n",
    "            param.requires_grad = False\n",
    "    # to train the hidden layers\n",
    "    elif requires_grad == True:\n",
    "        for param in model.parameters():\n",
    "            param.requires_grad = True\n",
    "    # make the classification layer learnable\n",
    "    # we have 5 classes in total\n",
    "    model.fc = nn.Linear(2048, 5)\n",
    "    return model"
   ]
  },
  {
   "cell_type": "code",
   "execution_count": null,
   "id": "e9c02799-5603-4a9c-8058-f91edc465fe7",
   "metadata": {},
   "outputs": [],
   "source": [
    "import torch\n",
    "from tqdm import tqdm\n",
    "# training function\n",
    "def train(model, dataloader, optimizer, criterion, trainData, device):\n",
    "    print('Training')\n",
    "    model.train()\n",
    "    counter = 0\n",
    "    train_running_loss = 0.0\n",
    "    for i, data in tqdm(enumerate(dataloader), total=int(len(trainData)/dataloader.batch_size)):\n",
    "        counter += 1\n",
    "        data, target = data['image'].to(device), data['label'].to(device)\n",
    "        optimizer.zero_grad()\n",
    "        outputs = model(data)\n",
    "        # apply sigmoid activation to get all the outputs between 0 and 1\n",
    "        outputs = torch.sigmoid(outputs)\n",
    "        loss = criterion(outputs, target)\n",
    "        train_running_loss += loss.item()\n",
    "        # backpropagation\n",
    "        loss.backward()\n",
    "        # update optimizer parameters\n",
    "        optimizer.step()\n",
    "        \n",
    "    train_loss = train_running_loss / counter\n",
    "    return train_loss\n",
    "\n",
    "# validation function\n",
    "def validate(model, dataloader, criterion, valData, device):\n",
    "    print('Validating')\n",
    "    model.eval()\n",
    "    counter = 0\n",
    "    val_running_loss = 0.0\n",
    "    with torch.no_grad():\n",
    "        for i, data in tqdm(enumerate(dataloader), total=int(len(valData)/dataloader.batch_size)):\n",
    "            counter += 1\n",
    "            data, target = data['image'].to(device), data['label'].to(device)\n",
    "            outputs = model(data)\n",
    "            # apply sigmoid activation to get all the outputs between 0 and 1\n",
    "            outputs = torch.sigmoid(outputs)\n",
    "            loss = criterion(outputs, target)\n",
    "            val_running_loss += loss.item()\n",
    "        \n",
    "        val_loss = val_running_loss / counter\n",
    "        return val_loss"
   ]
  },
  {
   "cell_type": "code",
   "execution_count": null,
   "id": "9ee5e1a5-232d-4491-ab5e-a3ed27f7e47c",
   "metadata": {},
   "outputs": [],
   "source": [
    "import torch\n",
    "import torch.nn as nn\n",
    "import torch.optim as optim\n",
    "import pandas as pd\n",
    "import matplotlib.pyplot as plt\n",
    "import matplotlib\n",
    "from torch.utils.data import DataLoader\n",
    "matplotlib.style.use('ggplot')\n",
    "# initialize the computation device\n",
    "device = torch.device('cuda' if torch.cuda.is_available() else 'cpu')"
   ]
  },
  {
   "cell_type": "code",
   "execution_count": null,
   "id": "470b7d87-1024-42b1-a1dc-a15ccd6a8bdb",
   "metadata": {},
   "outputs": [],
   "source": [
    "#intialize the model\n",
    "model = model(pretrained=True, requires_grad=False).to(device)\n",
    "# learning parameters\n",
    "lr = 0.0001\n",
    "epochs = 20\n",
    "batch_size = 32\n",
    "optimizer = optim.Adam(model.parameters(), lr=lr)\n",
    "criterion = nn.BCELoss()"
   ]
  },
  {
   "cell_type": "code",
   "execution_count": null,
   "id": "b59f5aef-5a15-4387-b396-de4ebe4a5c98",
   "metadata": {},
   "outputs": [],
   "source": [
    "trainData = ImageDataset(trainLabels, train=True, test=False)\n",
    "valData = ImageDataset(trainLabels, train=False, test=False)\n",
    "batchSize = 16\n",
    "# train data loader\n",
    "trainLoader = DataLoader(\n",
    "    trainData, \n",
    "    batch_size=batchSize,\n",
    "    shuffle=True\n",
    ")\n",
    "# validation data loader\n",
    "validLoader = DataLoader(\n",
    "    valData, \n",
    "    batch_size=batchSize,\n",
    "    shuffle=False)"
   ]
  },
  {
   "cell_type": "code",
   "execution_count": null,
   "id": "9dc6cfe6-647a-4aa5-bc5f-b6be886eb24a",
   "metadata": {},
   "outputs": [],
   "source": [
    "train_loss = []\n",
    "valid_loss = []\n",
    "epochs = 1\n",
    "for epoch in range(epochs):\n",
    "    print(f\"Epoch {epoch+1} of {epochs}\")\n",
    "    train_epoch_loss = train(\n",
    "        model, trainLoader, optimizer, criterion, trainData, device\n",
    "    )\n",
    "    valid_epoch_loss = validate(\n",
    "        model, validLoader, criterion, valData, device\n",
    "    )\n",
    "    train_loss.append(train_epoch_loss)\n",
    "    valid_loss.append(valid_epoch_loss)\n",
    "    print(f\"Train Loss: {train_epoch_loss:.4f}\")\n",
    "    print(f'Val Loss: {valid_epoch_loss:.4f}')"
   ]
  },
  {
   "cell_type": "code",
   "execution_count": null,
   "id": "9931c1ca-a1ca-45af-ac62-a125116e160f",
   "metadata": {},
   "outputs": [],
   "source": [
    "model.eval()"
   ]
  },
  {
   "cell_type": "code",
   "execution_count": null,
   "id": "e52a2cb6-d1a1-4d77-8a32-67d52a23c48f",
   "metadata": {},
   "outputs": [],
   "source": [
    "val"
   ]
  },
  {
   "cell_type": "code",
   "execution_count": null,
   "id": "818895c7-7661-4c14-add1-3a30247172bd",
   "metadata": {},
   "outputs": [],
   "source": []
  }
 ],
 "metadata": {
  "kernelspec": {
   "display_name": "Python 3 (ipykernel)",
   "language": "python",
   "name": "python3"
  },
  "language_info": {
   "codemirror_mode": {
    "name": "ipython",
    "version": 3
   },
   "file_extension": ".py",
   "mimetype": "text/x-python",
   "name": "python",
   "nbconvert_exporter": "python",
   "pygments_lexer": "ipython3",
   "version": "3.8.13"
  }
 },
 "nbformat": 4,
 "nbformat_minor": 5
}
